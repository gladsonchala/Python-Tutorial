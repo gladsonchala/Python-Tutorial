{
 "cells": [
  {
   "cell_type": "markdown",
   "metadata": {},
   "source": [
    "## Virtual Environment \n",
    "- A virtual environment is a Python environment such that the Python interpreter, libraries and scripts installed into it are isolated from those installed in other virtual environments, and (by default) any libraries installed in a “system” Python, i.e., one which is installed as part of your operating system.\n",
    "\n",
    "### Creation of virtual environments\n",
    "#### The venv\n",
    "- The `venv` module provides support for creating lightweight “virtual environments” with their own site directories, optionally isolated from system site directories. Each virtual environment has its own Python binary (which matches the version of the binary that was used to create this environment) and can have its own independent set of installed Python packages in its site directories.\n",
    "\n",
    "https://packaging.python.org/en/latest/guides/installing-using-pip-and-virtual-environments/ "
   ]
  },
  {
   "cell_type": "markdown",
   "metadata": {},
   "source": [
    "### Installing Virtual Environment\n",
    "Step 1: Upgrade PIP\n"
   ]
  },
  {
   "cell_type": "raw",
   "metadata": {},
   "source": [
    "py -m pip install --upgrade pip"
   ]
  },
  {
   "cell_type": "markdown",
   "metadata": {},
   "source": [
    "Step 2: Install Virtual Environment "
   ]
  },
  {
   "cell_type": "markdown",
   "metadata": {},
   "source": [
    "https://pypi.org/project/virtualenv/ \n",
    "\n",
    "`virtualenv` is used to manage Python packages for different projects. Using virtualenv allows you to avoid installing Python packages globally which could break system tools or other projects. You can install virtualenv using pip.\n"
   ]
  },
  {
   "cell_type": "raw",
   "metadata": {},
   "source": [
    "py -m pip install --user virtualenv"
   ]
  },
  {
   "cell_type": "markdown",
   "metadata": {},
   "source": [
    "Step 3: Create a Virtual Environment"
   ]
  },
  {
   "cell_type": "markdown",
   "metadata": {},
   "source": [
    "Creating a virtual environment (py -m venv environment_name)"
   ]
  },
  {
   "cell_type": "raw",
   "metadata": {},
   "source": [
    "py -m venv env"
   ]
  },
  {
   "cell_type": "markdown",
   "metadata": {},
   "source": [
    "Step 4: Activating a virtual environment"
   ]
  },
  {
   "cell_type": "markdown",
   "metadata": {},
   "source": [
    "Path to your virtual environment"
   ]
  },
  {
   "cell_type": "raw",
   "metadata": {},
   "source": [
    ".\\env\\Scripts\\activate"
   ]
  },
  {
   "cell_type": "markdown",
   "metadata": {},
   "source": [
    "### Problems in Activating Virtual Environment in Visual Studio Code Terminal"
   ]
  },
  {
   "cell_type": "markdown",
   "metadata": {},
   "source": [
    "Problem: `Activate.ps1 cannot be loaded because running scripts is disabled on this system`.\n",
    "\n",
    "A way is changing the terminal in VSCode to `Command Prompt` instead of `PowerShell`.\n",
    "\n",
    "- Open the drop-down on the right of the terminal and choose `Select Default Profile`\n",
    "Select `Command Prompt` from the options.\n"
   ]
  }
 ],
 "metadata": {
  "language_info": {
   "name": "python"
  },
  "orig_nbformat": 4
 },
 "nbformat": 4,
 "nbformat_minor": 2
}
