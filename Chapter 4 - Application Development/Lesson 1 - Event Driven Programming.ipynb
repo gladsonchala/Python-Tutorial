{
 "cells": [
  {
   "cell_type": "markdown",
   "metadata": {},
   "source": [
    "## What Is Event-Driven Programming?\n",
    "\t- An event is something that causes an event-driven program to perform an action.\n",
    "\t- This broad definition allows many programs to be understood as event-driven; consider, for example, a simple program that prints either Hello or World! depending on user input:\n"
   ]
  },
  {
   "cell_type": "code",
   "execution_count": 19,
   "metadata": {},
   "outputs": [],
   "source": [
    "import sys\n",
    "line = sys.stdin.readline().strip()\n",
    "if line == \"h\":\n",
    "    print(\"Hello\")\n",
    "else:\n",
    "    print(\"World\")\n"
   ]
  },
  {
   "cell_type": "markdown",
   "metadata": {},
   "source": [
    "The availability of a line of input over standard input is an event. Our program pauses on `sys.stdin.readline()`, which asks the operating system to allow the user to input a complete line. Until one is received, our program can make no progress. When the operating system receives input, and Python’s internals determine it’s a line, `sys.stdin.readline()` resumes our program by returning that data to it. This resumption is the event that drives our program forward. Even this simple program, then, can be understood as an event-driven one.\n"
   ]
  },
  {
   "cell_type": "markdown",
   "metadata": {},
   "source": [
    "## Multiple Events (Events in GUI Applications)\n",
    "A program that receives a single event and then exits doesn’t benefit from an event- driven approach. Programs in which more than one thing can happen at a time,\n",
    "however, are more naturally organized around events. A Graphical User Interface (`GUI`) implies just such a program: at any moment, a user might click a button, select an item from a menu, scroll through a text widget, and so on. \n"
   ]
  },
  {
   "cell_type": "markdown",
   "metadata": {},
   "source": [
    "Here’s a version of our previous program with a `Tkinter` GUI:"
   ]
  },
  {
   "cell_type": "code",
   "execution_count": 18,
   "metadata": {},
   "outputs": [],
   "source": [
    "from six.moves import tkinter\n",
    "from six.moves.tkinter import scrolledtext\n",
    "class Application(tkinter.Frame):\n",
    "\tdef __init__ (self, root):\n",
    "\t\tsuper(Application,self). __init__ (root)\n",
    "\t\tself.pack()\n",
    "\t\tself.helloButton = tkinter.Button(self,text=\"Say Hello\",command=self.sayHello)\n",
    "\t\tself.worldButton = tkinter.Button(self,text=\"Say World\",command=self.sayWorld)\n",
    "\t\tself.output = scrolledtext.ScrolledText(master=self)\n",
    "\t\tself.helloButton.pack(side=\"top\")\n",
    "\t\tself.worldButton.pack(side=\"top\")\n",
    "\t\tself.output.pack(side=\"top\")\n",
    "\tdef outputLine(self, text):\n",
    "\t\tself.output.insert(tkinter.INSERT, text+ '\\n')\n",
    "\tdef sayHello(self):\n",
    "\t\tself.outputLine(\"Hello\")\n",
    "\tdef sayWorld(self):\n",
    "\t\tself.outputLine(\"World\")\n",
    "\n",
    "Application(tkinter.Tk()).mainloop()"
   ]
  },
  {
   "cell_type": "markdown",
   "metadata": {},
   "source": [
    "This version of our program presents the user with two `buttons`, either of which can generate an independent `click` event. This differs from our previous program, where only `sys.stdin.readline` could generate the single “line ready” event. We cope with the possible occurrence of either button’s event by associating event handlers with each one. `Tkinter` `buttons` accept a callable command to invoke when they are `clicked`. When the button labeled “Say Hello” generates a click event, that event drives our program to call `Application.sayHello`. This, in turn, outputs a line consisting of Hello to a scrollable `text widget`. The same process applies to the button labeled “Say Hello” and `Application.sayWorld`."
   ]
  },
  {
   "cell_type": "markdown",
   "metadata": {},
   "source": [
    "`tkinter.Frame`’s `mainloop` method, which our `Application` class inherits, waits until a button bound to it generates an `event` and then runs the associated `event handler`. After each event handler has run, `tkinter.Frame.mainloop` again begins waiting for new events. A loop that monitors event sources and dispatches their associated handlers is typical of `event-driven` programs and is known as an `event loop`."
   ]
  },
  {
   "cell_type": "markdown",
   "metadata": {},
   "source": [
    "These concepts are the core of `Event-driven Programming`:\n",
    "1.\t`Events` represent that something has occurred and to which the\n",
    "program should react. In both our examples, events correspond\n",
    "naturally to program input, but as we’ll see, they can represent\n",
    "anything that causes our program to perform some action.\n",
    "2.\t`Event handlers` constitute the program’s reactions to events.\n",
    "Sometimes an event’s handler just consists of a sequence of\n",
    "code, as in our sys.stdin.readline example, but more often\n",
    "it’s encapsulated by a function or method, as in our tkinter\n",
    "example.\n",
    "3.\tAn `event loop` waits for events and invokes the event handler\n",
    "associated with each. Not all event-driven programs have an event\n",
    "loop; our `sys.stdin.readline` example did not because it only\n",
    "responds to a single event. However, most resemble our tkinter\n",
    "example in that they process many events before finally exiting.\n",
    "These kinds of programs use an `event loop`.\n"
   ]
  },
  {
   "cell_type": "markdown",
   "metadata": {},
   "source": [
    "---"
   ]
  },
  {
   "cell_type": "markdown",
   "metadata": {},
   "source": [
    "`Event-driven programming` focuses on the events (messages) and their flow between different software components. `In fact, it can be found in many types of software`. Historically, event-based Python programming is the most common paradigm for software that deals with direct human interaction."
   ]
  },
  {
   "cell_type": "markdown",
   "metadata": {},
   "source": [
    "## Event Driven for Web Application"
   ]
  },
  {
   "cell_type": "markdown",
   "metadata": {},
   "source": [
    "Event Driven Programming can be applied across diverse domains, including `web` applications, graphical user interfaces, server-side systems, and data-driven applications."
   ]
  },
  {
   "cell_type": "markdown",
   "metadata": {},
   "source": [
    "### Framework for Python Web Development"
   ]
  },
  {
   "cell_type": "markdown",
   "metadata": {},
   "source": [
    "What is the framework?\n",
    "- A framework provides capabilities that developers can enhance or extend. A web application framework provides many of the common needs of building web applications allowing developers to concentrate only on the parts that are specific to their application.\n",
    "- Web Application Framework or simply Web Framework represents a collection of libraries and modules that enables a web application developer to write applications without having to bother about low-level details such as protocols, thread management etc.\n"
   ]
  },
  {
   "cell_type": "markdown",
   "metadata": {},
   "source": [
    "### 1.\tDjango \n",
    "Django is a high-level Python web framework that encourages rapid development and clean, pragmatic design. Built by experienced developers, it takes care of much of the hassle of web development, so you can focus on writing your app without needing to reinvent the wheel. It’s free and open source."
   ]
  },
  {
   "cell_type": "markdown",
   "metadata": {},
   "source": [
    "### 2.\tFlask\n",
    "Flask is considered more Pythonic than the Django web framework because in common situations the equivalent Flask web application is more explicit. Flask is also easy to get started with as a beginner because there is little boilerplate code for getting a simple app up and running."
   ]
  },
  {
   "cell_type": "markdown",
   "metadata": {},
   "source": [
    "### 3.\tWeb2py\n",
    "Free open source full-stack framework for rapid development of fast, scalable, secure and portable database-driven web-based applications. Written and programmable in Python (version 3 and 2.7)."
   ]
  },
  {
   "cell_type": "markdown",
   "metadata": {},
   "source": [
    "### 4.\tPyramid\n",
    "Pyramid is a Python web application framework. It is designed to make creating web applications easier. It is open source."
   ]
  },
  {
   "cell_type": "markdown",
   "metadata": {},
   "source": [
    "### 5.\tDash\n",
    "Dash is an open-source Python framework used for building analytical web applications. It is a powerful library that simplifies the development of data-driven applications. It’s especially useful for Python data scientists who aren’t very familiar with web development. Users can create amazing dashboards in their browser using dash."
   ]
  }
 ],
 "metadata": {
  "kernelspec": {
   "display_name": "Python 3",
   "language": "python",
   "name": "python3"
  },
  "language_info": {
   "codemirror_mode": {
    "name": "ipython",
    "version": 3
   },
   "file_extension": ".py",
   "mimetype": "text/x-python",
   "name": "python",
   "nbconvert_exporter": "python",
   "pygments_lexer": "ipython3",
   "version": "3.10.8"
  },
  "orig_nbformat": 4
 },
 "nbformat": 4,
 "nbformat_minor": 2
}
