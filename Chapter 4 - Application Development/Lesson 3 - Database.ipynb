{
 "cells": [
  {
   "cell_type": "markdown",
   "metadata": {},
   "source": [
    "## Best Database for Python\n",
    "#### `PostgreSQL`\n",
    "PostgreSQL is often the top choice as the best database for python. It can be used for both small and large applications as it is open-source and has a rich feature set.\n",
    "### What Other Databases Are Popular for Python?\n",
    "In addition to PostgreSQL, several other databases are popular with Python developers. MySQL is another\n",
    "#### `MySQL`\n",
    "MySQL is a popular choice for Python developers because it is easy to use and has a wide variety of features. It also has a large user base, so plenty of resources are available online if you need help. Additionally, MySQL is free and open-source software, making it a cost-effective option for businesses.\n",
    "#### `SQLite`\n",
    "It is one of the widely used lightweight databases for Python. It is a serverless, self-contained, file-based database engine with zero configuration. SQLite supports all of the common features of relational databases: primary keys, foreign keys, indices, and transactions. It also supports some features not commonly found in other relational databases.\n",
    "#### `Oracle`\n",
    "Oracle is a Relational Database Management System (RDBMS) developed by Larry Ellison and his team in 1977. It is now part of the Oracle Corporation. It is a multi-model database supporting SQL (relational) and NoSQL (non-relational) data models. It is a good choice for Python as it offers high performance, easier scalability, and availability.\n"
   ]
  },
  {
   "cell_type": "code",
   "execution_count": null,
   "metadata": {},
   "outputs": [],
   "source": []
  }
 ],
 "metadata": {
  "language_info": {
   "name": "python"
  },
  "orig_nbformat": 4
 },
 "nbformat": 4,
 "nbformat_minor": 2
}
