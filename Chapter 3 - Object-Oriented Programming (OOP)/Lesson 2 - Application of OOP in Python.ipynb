{
 "cells": [
  {
   "cell_type": "markdown",
   "metadata": {},
   "source": [
    "# Object-Oriented Programming (OOP) in Python\n",
    "-\tIs a method or approach of organizing a program by grouping properties, methods, attributes into individual objects."
   ]
  },
  {
   "cell_type": "code",
   "execution_count": 4,
   "metadata": {},
   "outputs": [
    {
     "name": "stdout",
     "output_type": "stream",
     "text": [
      "Eve\n",
      "P\n"
     ]
    }
   ],
   "source": [
    "class Guest:\n",
    "    def __init__(self, first, last):\n",
    "        self.first = first\n",
    "        self.last = last\n",
    "\n",
    "g_1 = Guest(\"Eve\", \"DC\")\n",
    "g_2 = Guest(\"Adam\", \"P\")\n",
    "\n",
    "print(g_1.first)\n",
    "print(g_2.last)"
   ]
  },
  {
   "cell_type": "markdown",
   "metadata": {},
   "source": [
    "## Class\n",
    "-\tIs the blueprint or template for creating instances and objects; helps us organize our data and functions so that they can be reused or modifies if necessary.\n",
    "\n",
    "### How to Define a Class\n",
    "- All class definitions start with the `class` keyword, which is followed by the `name` of the class and a `colon`. Any code that is indented below the class definition is considered part of the class’s body.\n"
   ]
  },
  {
   "cell_type": "code",
   "execution_count": 1,
   "metadata": {},
   "outputs": [],
   "source": [
    "# To create a class in Python, use the keyword class.\n",
    "class MyClass:\n",
    "    pass"
   ]
  },
  {
   "cell_type": "code",
   "execution_count": null,
   "metadata": {},
   "outputs": [],
   "source": [
    "# Syntax in PHP and C#\n",
    "# class MyClass{\n",
    "\n",
    "# }"
   ]
  },
  {
   "cell_type": "markdown",
   "metadata": {},
   "source": [
    "## Objects\n",
    "- Are data structures that are defined by its class, comprised of methods, class variables, and instance variables.\n"
   ]
  },
  {
   "cell_type": "code",
   "execution_count": null,
   "metadata": {},
   "outputs": [],
   "source": [
    "# in C#\n",
    "# MyClass objectName = new MyClass();\n",
    "\n",
    "# in PHP\n",
    "# $object = new MyClass();"
   ]
  },
  {
   "cell_type": "markdown",
   "metadata": {},
   "source": [
    "Python"
   ]
  },
  {
   "cell_type": "code",
   "execution_count": 17,
   "metadata": {},
   "outputs": [],
   "source": [
    "class MyClass:\n",
    "    pass\n",
    "\n",
    "# Now we can use the class named MyClass to create objects\n",
    "myObject = MyClass() #instaniation"
   ]
  },
  {
   "cell_type": "markdown",
   "metadata": {},
   "source": [
    "## `__init__()` function\n",
    "- Is used to assign values to the properties and operations of objects when it is being created.\n",
    "- All classes have a function called `__init__()`, which is always executed when the class is being initiated.\n",
    "- Use the `__init__()` function to assign values to object properties, or other operations that are necessary to do when the object is being created:"
   ]
  },
  {
   "cell_type": "code",
   "execution_count": null,
   "metadata": {},
   "outputs": [],
   "source": [
    "# C# - \n",
    "# class Person{\n",
    "#     public void Person(){\n",
    "#     }\n",
    "# }\n",
    "# Person p1 = new Person();\n",
    "\n",
    "# PHP - \n",
    "# class Person{\n",
    "#     function __construct(){\n",
    "#     }\n",
    "# }\n",
    "# $p1 = new Person();"
   ]
  },
  {
   "cell_type": "markdown",
   "metadata": {},
   "source": [
    "Python Syntax"
   ]
  },
  {
   "cell_type": "code",
   "execution_count": 4,
   "metadata": {},
   "outputs": [],
   "source": [
    "class NewClass:\n",
    "    pass\n",
    "\n",
    "#object\n",
    "newObject = NewClass() #instanciation"
   ]
  },
  {
   "cell_type": "code",
   "execution_count": 17,
   "metadata": {},
   "outputs": [
    {
     "name": "stdout",
     "output_type": "stream",
     "text": [
      "Hello World!\n"
     ]
    }
   ],
   "source": [
    "class NewClass2:\n",
    "    def __init__(self):\n",
    "        print(\"Hello World!\")\n",
    "\n",
    "newObject = NewClass2()"
   ]
  },
  {
   "cell_type": "code",
   "execution_count": 18,
   "metadata": {},
   "outputs": [
    {
     "name": "stdout",
     "output_type": "stream",
     "text": [
      "John\n",
      "36\n"
     ]
    }
   ],
   "source": [
    "# Create a class named Person, use the __init__() function to assign values for name and age:\n",
    "class Person:\n",
    "  def __init__(self, name, age):\n",
    "    self.name = name\n",
    "    self.age = age\n",
    "\n",
    "# create object p1\n",
    "p1 = Person(\"John\", 36)\n",
    "\n",
    "print(p1.name)\n",
    "print(p1.age)"
   ]
  },
  {
   "cell_type": "markdown",
   "metadata": {},
   "source": [
    "Note: The `__init__()` function is called automatically every time the class is being used to create a new object. In other programming this will be called `Constructor Funcation`"
   ]
  },
  {
   "cell_type": "markdown",
   "metadata": {},
   "source": [
    "You can also create class attribute using `object.new_attribute = value`"
   ]
  },
  {
   "cell_type": "code",
   "execution_count": 11,
   "metadata": {},
   "outputs": [
    {
     "name": "stdout",
     "output_type": "stream",
     "text": [
      "John\n",
      "36\n"
     ]
    }
   ],
   "source": [
    "class Person:\n",
    "    pass\n",
    "\n",
    "# create object p1\n",
    "p1 = Person()\n",
    "\n",
    "p1.name = \"John\"\n",
    "p1.age = 36\n",
    "\n",
    "print(p1.name)\n",
    "print(p1.age)"
   ]
  },
  {
   "cell_type": "markdown",
   "metadata": {},
   "source": [
    "## Attributes\n",
    "- Are data stored inside a class or instance that represent the state of the class or instance.\n",
    "- Defined directly inside a class.\n",
    "- Shared across all objects.\n",
    "- Accessed using class name as well as using object with dot notation, e.g. `classname.class_attribute` or `object.class_attribute`\n",
    "- Changing value by using `classname.class_attribute = value` will be reflected to all the objects.\n"
   ]
  },
  {
   "cell_type": "code",
   "execution_count": 22,
   "metadata": {},
   "outputs": [
    {
     "name": "stdout",
     "output_type": "stream",
     "text": [
      "white\n",
      "black\n"
     ]
    }
   ],
   "source": [
    "class Dog:\n",
    "    # Class attributes\n",
    "    species = \"Canis familiaris\"\n",
    "    color = \"white\"\n",
    "\n",
    "# object\n",
    "dogie = Dog()\n",
    "print(dogie.color)\n",
    "\n",
    "Dog.color = \"black\" # change value using classname\n",
    "\n",
    "# object\n",
    "aspin = Dog()\n",
    "print(aspin.color)"
   ]
  },
  {
   "cell_type": "markdown",
   "metadata": {},
   "source": [
    "## There are several kinds of variables in Python:\n",
    "\n",
    "- `Local Variables`: Variables in a method or block of code\n",
    "- `Parameters`: Variables in method declarations\n",
    "- `Instance variables` in a class: these are called fields or attributes of an object\n",
    "- `Class variables`: This variable is shared between all objects of a class"
   ]
  },
  {
   "cell_type": "code",
   "execution_count": 24,
   "metadata": {},
   "outputs": [],
   "source": [
    "# Local Variable\n",
    "def myfunction():\n",
    "    mylocal_var1 = \"value\"\n",
    "    \n",
    "if 1 == 1:\n",
    "    mylocal_var2 = \"value\""
   ]
  },
  {
   "cell_type": "code",
   "execution_count": 25,
   "metadata": {},
   "outputs": [
    {
     "name": "stdout",
     "output_type": "stream",
     "text": [
      "param value\n"
     ]
    }
   ],
   "source": [
    "# Parameter\n",
    "def myfunction(myparameter_var):\n",
    "    print(myparameter_var)\n",
    "\n",
    "myfunction(\"param value\")"
   ]
  },
  {
   "cell_type": "markdown",
   "metadata": {},
   "source": [
    "## Instance Variables\n",
    "- Are variables that are defined within a method and are unique to a certain instance.\n",
    "- Defined inside a constructor using the self parameter.\n",
    "- Specific to object.\n",
    "- Accessed using object dot notation e.g. `object.instance_attribute`\n",
    "- Changing value of instance attribute will not be reflected to other objects."
   ]
  },
  {
   "cell_type": "code",
   "execution_count": 15,
   "metadata": {},
   "outputs": [],
   "source": [
    "class Guest:\n",
    "    def __init__(self, name, age):\n",
    "        self.name = name    # <<==== instance variables\n",
    "        self.age = age      # <<==== instance variables\n",
    "\n",
    "    def show(self):         # <<==== instance method\n",
    "        print(f\"name:{self.name}\")\n",
    "        "
   ]
  },
  {
   "cell_type": "code",
   "execution_count": 16,
   "metadata": {},
   "outputs": [
    {
     "name": "stdout",
     "output_type": "stream",
     "text": [
      "name:Juan\n",
      "name:Pedro\n"
     ]
    }
   ],
   "source": [
    "#object\n",
    "g = Guest(\"Juan\", 21)\n",
    "g.show()\n",
    "\n",
    "#object\n",
    "gg = Guest(\"Pedro\", 21)\n",
    "gg.show()"
   ]
  },
  {
   "cell_type": "markdown",
   "metadata": {},
   "source": [
    "## Class Variables\n",
    "- Are variables that are used by all instances of the class, which can be defined within a class, but not within the methods of the class.\n",
    "- A class variable is a variable that is declared inside of class, but outside of any instance method or `__init__()` method.\n"
   ]
  },
  {
   "cell_type": "code",
   "execution_count": 7,
   "metadata": {},
   "outputs": [
    {
     "name": "stdout",
     "output_type": "stream",
     "text": [
      "Adorable\n"
     ]
    }
   ],
   "source": [
    "class Pets:\n",
    "    looks = \"Adorable\"\n",
    "\n",
    "hamster = Pets()\n",
    "print(hamster.looks)"
   ]
  },
  {
   "cell_type": "code",
   "execution_count": 2,
   "metadata": {},
   "outputs": [
    {
     "name": "stdout",
     "output_type": "stream",
     "text": [
      "Beautiful\n"
     ]
    }
   ],
   "source": [
    "class Pets:\n",
    "    looks = \"Adorable\"\n",
    "\n",
    "hamster = Pets()\n",
    "hamster.looks = \"Beautiful\"\n",
    "print(hamster.looks)"
   ]
  },
  {
   "cell_type": "markdown",
   "metadata": {},
   "source": [
    "## Methods\n",
    "- Are a type of function that is defined in a class.\n"
   ]
  },
  {
   "cell_type": "code",
   "execution_count": 27,
   "metadata": {},
   "outputs": [],
   "source": [
    "class Guest:\n",
    "    # init method\n",
    "    def __init__(self, first, last):\n",
    "        self.first = first\n",
    "        self.last = last"
   ]
  },
  {
   "cell_type": "code",
   "execution_count": 26,
   "metadata": {},
   "outputs": [],
   "source": [
    "class Person:\n",
    "    # method 1\n",
    "    def method1(self):\n",
    "        print(\"Hello my name is \" + self.name)\n",
    "        print(self.method2(\"try\"))\n",
    "    # method 2\n",
    "    def method2(self, val):\n",
    "        return val"
   ]
  },
  {
   "cell_type": "markdown",
   "metadata": {},
   "source": [
    "## The self Parameter\n",
    "- The `self` parameter is a reference to the current instance of the class, and is used to access `variables` that belongs to the `class`."
   ]
  },
  {
   "cell_type": "code",
   "execution_count": 28,
   "metadata": {},
   "outputs": [],
   "source": [
    "# C# used `this.` keyword\n",
    "# class Person{\n",
    "#     public int num1 = 12;\n",
    "#     public void myfunction(){\n",
    "#         Console.WriteLine(this.num1);\n",
    "#     }\n",
    "# }\n",
    "\n",
    "# PHP used `$this->` keyword\n",
    "# class Person{\n",
    "#     function myfunction1(){\n",
    "#     }\n",
    "#     function myfunction2(){ \n",
    "#         echo $this->myfunction1();\n",
    "#     }\n",
    "# }\n",
    "\n",
    "# VB.NET or Visual Basic \n",
    "# using `Me.` keyword"
   ]
  },
  {
   "cell_type": "markdown",
   "metadata": {},
   "source": [
    "Python Syntax\n",
    "- using FIRST parameter of a methods"
   ]
  },
  {
   "cell_type": "markdown",
   "metadata": {},
   "source": [
    "In these example, the first parameter of init, method1 and method 2 is the `self` variable name. So these will be use to call the variable and methods inside the class."
   ]
  },
  {
   "cell_type": "code",
   "execution_count": 29,
   "metadata": {},
   "outputs": [
    {
     "name": "stdout",
     "output_type": "stream",
     "text": [
      "Hello my name is John\n",
      "try\n"
     ]
    }
   ],
   "source": [
    "class Person:\n",
    "    def __init__(self, name, age):\n",
    "        self.name = name\n",
    "        self.age = age\n",
    "\n",
    "    def method1(self):\n",
    "        print(\"Hello my name is \" + self.name)\n",
    "        print(self.method2(\"try\"))\n",
    "\n",
    "    def method2(self, val):\n",
    "        return val\n",
    "    \n",
    "# object\n",
    "p1 = Person(\"John\", 36)\n",
    "p1.method1()"
   ]
  },
  {
   "cell_type": "markdown",
   "metadata": {},
   "source": [
    "\n",
    "It does not have to be named `self` , you can call it whatever you like, but it has to be the first parameter of any function in the class:\n",
    "\n",
    "Example:  \n",
    "Use the words `person` and abc instead of self:"
   ]
  },
  {
   "cell_type": "code",
   "execution_count": 30,
   "metadata": {},
   "outputs": [
    {
     "name": "stdout",
     "output_type": "stream",
     "text": [
      "Hello my name is John 36 years old.\n"
     ]
    }
   ],
   "source": [
    "class Person:\n",
    "    def __init__(person, name, age):\n",
    "        person.name = name\n",
    "        person.age = age\n",
    "\n",
    "    def myfunc(abc):\n",
    "        print(\"Hello my name is \" + abc.name + \" \" + str(abc.age) + \" years old.\")\n",
    "\n",
    "p1 = Person(\"John\", 36)\n",
    "p1.myfunc()"
   ]
  },
  {
   "cell_type": "markdown",
   "metadata": {},
   "source": [
    "#### Modify Object Properties  \n",
    "You can modify properties on objects like this:"
   ]
  },
  {
   "cell_type": "code",
   "execution_count": 34,
   "metadata": {},
   "outputs": [
    {
     "name": "stdout",
     "output_type": "stream",
     "text": [
      "Hello my name is John, 40 years old.\n"
     ]
    }
   ],
   "source": [
    "# Example\n",
    "# Set the age of p1 to 40:\n",
    "\n",
    "class Person:\n",
    "    def __init__(person, name, age):\n",
    "        person.name = name\n",
    "        person.age = age\n",
    "\n",
    "    def myfunc(per):\n",
    "        print(\"Hello my name is \" + per.name + \", \" + str(per.age) + \" years old.\")\n",
    "\n",
    "p1 = Person(\"John\", 36) # \n",
    "\n",
    "p1.age = 40 #change 36 to 40\n",
    "p1.myfunc()"
   ]
  },
  {
   "cell_type": "markdown",
   "metadata": {},
   "source": [
    "#### Delete Object Properties  \n",
    "You can delete properties on objects by using the del keyword:"
   ]
  },
  {
   "cell_type": "code",
   "execution_count": 35,
   "metadata": {},
   "outputs": [
    {
     "ename": "AttributeError",
     "evalue": "'Person' object has no attribute 'age'",
     "output_type": "error",
     "traceback": [
      "\u001b[1;31m---------------------------------------------------------------------------\u001b[0m",
      "\u001b[1;31mAttributeError\u001b[0m                            Traceback (most recent call last)",
      "\u001b[1;32md:\\Academ\\My Own Books\\PYTHON POGRAMMING\\Python\\Modules\\Notebooks\\Python-Tutorial\\Chapter 3 - Object-Oriented Programming (OOP)\\Lesson 2 - Application of OOP in Python.ipynb Cell 43\u001b[0m line \u001b[0;36m6\n\u001b[0;32m      <a href='vscode-notebook-cell:/d%3A/Academ/My%20Own%20Books/PYTHON%20POGRAMMING/Python/Modules/Notebooks/Python-Tutorial/Chapter%203%20-%20Object-Oriented%20Programming%20%28OOP%29/Lesson%202%20-%20Application%20of%20OOP%20in%20Python.ipynb#X52sZmlsZQ%3D%3D?line=0'>1</a>\u001b[0m \u001b[39m# Example\u001b[39;00m\n\u001b[0;32m      <a href='vscode-notebook-cell:/d%3A/Academ/My%20Own%20Books/PYTHON%20POGRAMMING/Python/Modules/Notebooks/Python-Tutorial/Chapter%203%20-%20Object-Oriented%20Programming%20%28OOP%29/Lesson%202%20-%20Application%20of%20OOP%20in%20Python.ipynb#X52sZmlsZQ%3D%3D?line=1'>2</a>\u001b[0m \u001b[39m# Delete the age property from the p1 object:\u001b[39;00m\n\u001b[0;32m      <a href='vscode-notebook-cell:/d%3A/Academ/My%20Own%20Books/PYTHON%20POGRAMMING/Python/Modules/Notebooks/Python-Tutorial/Chapter%203%20-%20Object-Oriented%20Programming%20%28OOP%29/Lesson%202%20-%20Application%20of%20OOP%20in%20Python.ipynb#X52sZmlsZQ%3D%3D?line=3'>4</a>\u001b[0m \u001b[39mdel\u001b[39;00m p1\u001b[39m.\u001b[39mage\n\u001b[1;32m----> <a href='vscode-notebook-cell:/d%3A/Academ/My%20Own%20Books/PYTHON%20POGRAMMING/Python/Modules/Notebooks/Python-Tutorial/Chapter%203%20-%20Object-Oriented%20Programming%20%28OOP%29/Lesson%202%20-%20Application%20of%20OOP%20in%20Python.ipynb#X52sZmlsZQ%3D%3D?line=5'>6</a>\u001b[0m p1\u001b[39m.\u001b[39;49mmyfunc()\n",
      "\u001b[1;32md:\\Academ\\My Own Books\\PYTHON POGRAMMING\\Python\\Modules\\Notebooks\\Python-Tutorial\\Chapter 3 - Object-Oriented Programming (OOP)\\Lesson 2 - Application of OOP in Python.ipynb Cell 43\u001b[0m line \u001b[0;36m1\n\u001b[0;32m      <a href='vscode-notebook-cell:/d%3A/Academ/My%20Own%20Books/PYTHON%20POGRAMMING/Python/Modules/Notebooks/Python-Tutorial/Chapter%203%20-%20Object-Oriented%20Programming%20%28OOP%29/Lesson%202%20-%20Application%20of%20OOP%20in%20Python.ipynb#X52sZmlsZQ%3D%3D?line=8'>9</a>\u001b[0m \u001b[39mdef\u001b[39;00m \u001b[39mmyfunc\u001b[39m(per):\n\u001b[1;32m---> <a href='vscode-notebook-cell:/d%3A/Academ/My%20Own%20Books/PYTHON%20POGRAMMING/Python/Modules/Notebooks/Python-Tutorial/Chapter%203%20-%20Object-Oriented%20Programming%20%28OOP%29/Lesson%202%20-%20Application%20of%20OOP%20in%20Python.ipynb#X52sZmlsZQ%3D%3D?line=9'>10</a>\u001b[0m     \u001b[39mprint\u001b[39m(\u001b[39m\"\u001b[39m\u001b[39mHello my name is \u001b[39m\u001b[39m\"\u001b[39m \u001b[39m+\u001b[39m per\u001b[39m.\u001b[39mname \u001b[39m+\u001b[39m \u001b[39m\"\u001b[39m\u001b[39m, \u001b[39m\u001b[39m\"\u001b[39m \u001b[39m+\u001b[39m \u001b[39mstr\u001b[39m(per\u001b[39m.\u001b[39;49mage) \u001b[39m+\u001b[39m \u001b[39m\"\u001b[39m\u001b[39m years old.\u001b[39m\u001b[39m\"\u001b[39m)\n",
      "\u001b[1;31mAttributeError\u001b[0m: 'Person' object has no attribute 'age'"
     ]
    }
   ],
   "source": [
    "# Example\n",
    "# Delete the age property from the p1 object:\n",
    "\n",
    "del p1.age\n",
    "\n",
    "p1.myfunc()"
   ]
  },
  {
   "cell_type": "markdown",
   "metadata": {},
   "source": [
    "#### Delete Objects  \n",
    "You can delete objects by using the del keyword:"
   ]
  },
  {
   "cell_type": "code",
   "execution_count": 36,
   "metadata": {},
   "outputs": [
    {
     "ename": "NameError",
     "evalue": "name 'p1' is not defined",
     "output_type": "error",
     "traceback": [
      "\u001b[1;31m---------------------------------------------------------------------------\u001b[0m",
      "\u001b[1;31mNameError\u001b[0m                                 Traceback (most recent call last)",
      "\u001b[1;32md:\\Academ\\My Own Books\\PYTHON POGRAMMING\\Python\\Modules\\Notebooks\\Python-Tutorial\\Chapter 3 - Object-Oriented Programming (OOP)\\Lesson 2 - Application of OOP in Python.ipynb Cell 45\u001b[0m line \u001b[0;36m6\n\u001b[0;32m      <a href='vscode-notebook-cell:/d%3A/Academ/My%20Own%20Books/PYTHON%20POGRAMMING/Python/Modules/Notebooks/Python-Tutorial/Chapter%203%20-%20Object-Oriented%20Programming%20%28OOP%29/Lesson%202%20-%20Application%20of%20OOP%20in%20Python.ipynb#X54sZmlsZQ%3D%3D?line=0'>1</a>\u001b[0m \u001b[39m# Example\u001b[39;00m\n\u001b[0;32m      <a href='vscode-notebook-cell:/d%3A/Academ/My%20Own%20Books/PYTHON%20POGRAMMING/Python/Modules/Notebooks/Python-Tutorial/Chapter%203%20-%20Object-Oriented%20Programming%20%28OOP%29/Lesson%202%20-%20Application%20of%20OOP%20in%20Python.ipynb#X54sZmlsZQ%3D%3D?line=1'>2</a>\u001b[0m \u001b[39m# Delete the p1 object:\u001b[39;00m\n\u001b[0;32m      <a href='vscode-notebook-cell:/d%3A/Academ/My%20Own%20Books/PYTHON%20POGRAMMING/Python/Modules/Notebooks/Python-Tutorial/Chapter%203%20-%20Object-Oriented%20Programming%20%28OOP%29/Lesson%202%20-%20Application%20of%20OOP%20in%20Python.ipynb#X54sZmlsZQ%3D%3D?line=3'>4</a>\u001b[0m \u001b[39mdel\u001b[39;00m p1\n\u001b[1;32m----> <a href='vscode-notebook-cell:/d%3A/Academ/My%20Own%20Books/PYTHON%20POGRAMMING/Python/Modules/Notebooks/Python-Tutorial/Chapter%203%20-%20Object-Oriented%20Programming%20%28OOP%29/Lesson%202%20-%20Application%20of%20OOP%20in%20Python.ipynb#X54sZmlsZQ%3D%3D?line=5'>6</a>\u001b[0m p1\u001b[39m.\u001b[39mmyfunc()\n\u001b[0;32m      <a href='vscode-notebook-cell:/d%3A/Academ/My%20Own%20Books/PYTHON%20POGRAMMING/Python/Modules/Notebooks/Python-Tutorial/Chapter%203%20-%20Object-Oriented%20Programming%20%28OOP%29/Lesson%202%20-%20Application%20of%20OOP%20in%20Python.ipynb#X54sZmlsZQ%3D%3D?line=6'>7</a>\u001b[0m \u001b[39mprint\u001b[39m(p1\u001b[39m.\u001b[39mage)\n",
      "\u001b[1;31mNameError\u001b[0m: name 'p1' is not defined"
     ]
    }
   ],
   "source": [
    "# Example\n",
    "# Delete the p1 object:\n",
    "\n",
    "del p1\n",
    "\n",
    "p1.myfunc()\n",
    "print(p1.age)"
   ]
  },
  {
   "cell_type": "markdown",
   "metadata": {},
   "source": [
    "---"
   ]
  },
  {
   "cell_type": "markdown",
   "metadata": {},
   "source": [
    "## Inheritance\n",
    "- In object-oriented programming (OOP), inheritance “allows classes to have code reusability within programming”.\n",
    "\n",
    "- Inheritance allows us to define a class that inherits all the methods and properties from another class.\n",
    "\n"
   ]
  },
  {
   "cell_type": "markdown",
   "metadata": {},
   "source": [
    "`Parent class` is the class being `inherited from`, also called `base` class.\n",
    "\n",
    "`Child class` is the class that `inherits from another class`, also called `derived` class or `sub` class.\n",
    "\n"
   ]
  },
  {
   "cell_type": "markdown",
   "metadata": {},
   "source": [
    "Parent Class  \n",
    "    |  \n",
    "    |  \n",
    "Child Class  "
   ]
  },
  {
   "cell_type": "code",
   "execution_count": 39,
   "metadata": {},
   "outputs": [],
   "source": [
    "# Syntax\n",
    "\n",
    "#class ParentClass():\n",
    "    # Attribute\n",
    "    # Method\n",
    "    \n",
    "#class ChildClass(ParentClass):\n",
    "    # Attribute\n",
    "    # Method"
   ]
  },
  {
   "cell_type": "markdown",
   "metadata": {},
   "source": [
    "## Base Class (Parent)\n",
    "- Is the class being inherited from, also called `parent` class.\n"
   ]
  },
  {
   "cell_type": "markdown",
   "metadata": {},
   "source": [
    "Create a Parent Class  "
   ]
  },
  {
   "cell_type": "code",
   "execution_count": 37,
   "metadata": {},
   "outputs": [
    {
     "name": "stdout",
     "output_type": "stream",
     "text": [
      "John Doe\n"
     ]
    }
   ],
   "source": [
    "# Example of a Class\n",
    "# Create a class named Person, with firstname and lastname properties, and a printname method:\n",
    "\n",
    "class Person:\n",
    "  def __init__(self, fname, lname):\n",
    "    self.firstname = fname\n",
    "    self.lastname = lname\n",
    "\n",
    "  def printname(self):\n",
    "    print(self.firstname, self.lastname)\n",
    "\n",
    "#Use the Person class to create an object, and then execute the printname method:\n",
    "x = Person(\"John\", \"Doe\")\n",
    "x.printname()"
   ]
  },
  {
   "cell_type": "markdown",
   "metadata": {},
   "source": [
    "Note: Any class can be a parent class, so the syntax is the same as creating any other class:"
   ]
  },
  {
   "cell_type": "markdown",
   "metadata": {},
   "source": [
    "Example 2: `Admin` Class inherit the `User` Class"
   ]
  },
  {
   "cell_type": "code",
   "execution_count": 38,
   "metadata": {},
   "outputs": [],
   "source": [
    "# Parent Class\n",
    "class User:\n",
    "    def __init__(self, username, password):\n",
    "        self.username = username\n",
    "        self.password = password\n",
    "\n",
    "    def display1(self):\n",
    "        print(\"(parent class/User) Username:\", self.username, \"password:\", self.password)\n",
    "\n",
    "# Child Class\n",
    "class Admin(User):\n",
    "    pass"
   ]
  },
  {
   "cell_type": "code",
   "execution_count": 40,
   "metadata": {},
   "outputs": [],
   "source": [
    "#PHP\n",
    "# class Admin extends User{\n",
    "# }\n",
    "\n",
    "# C#\n",
    "# class Admin : User{\n",
    "\n",
    "# }"
   ]
  },
  {
   "cell_type": "markdown",
   "metadata": {},
   "source": [
    "## Subclass (Child)\n",
    "- Is the class which inherits from another class, also called a child class.\n"
   ]
  },
  {
   "cell_type": "code",
   "execution_count": 41,
   "metadata": {},
   "outputs": [],
   "source": [
    "# Parent Class\n",
    "class User:\n",
    "    def __init__(self, username, password):\n",
    "        self.username = username\n",
    "        self.password = password\n",
    "\n",
    "    def display1(self):\n",
    "        print(\"(parent class/User) Username:\", self.username, \"password:\", self.password)\n",
    "\n",
    "\n",
    "# Child Class\n",
    "class Admin(User):\n",
    "    def display2(self):\n",
    "        print(\"(child class/Admin) Username:\", self.username, \"password:\", self.password)"
   ]
  },
  {
   "cell_type": "markdown",
   "metadata": {},
   "source": [
    "Now the Admin class has the same properties and methods as the User class."
   ]
  },
  {
   "cell_type": "code",
   "execution_count": 43,
   "metadata": {},
   "outputs": [
    {
     "name": "stdout",
     "output_type": "stream",
     "text": [
      "(parent class/User) Username: juan23 password: mypassword123\n",
      "(child class/Admin) Username: juan23 password: mypassword123\n"
     ]
    }
   ],
   "source": [
    "# Example\n",
    "# Use the Admin class to create an object, and then execute the method from User class:\n",
    "\n",
    "admin = Admin(\"juan23\", \"mypassword123\")\n",
    "admin.display1()\n",
    "admin.display2()"
   ]
  },
  {
   "cell_type": "code",
   "execution_count": 44,
   "metadata": {},
   "outputs": [
    {
     "name": "stdout",
     "output_type": "stream",
     "text": [
      "Username: pedro ,Password: mypassword123\n"
     ]
    }
   ],
   "source": [
    "class User:\n",
    "    def __init__(self, username, password):\n",
    "        self.username = username\n",
    "        self.password = password\n",
    "\n",
    "    def display1(self):\n",
    "        print(\"Username:\", self.username, \",Password:\", self.password)\n",
    "\n",
    "class Admin(User):\n",
    "    def __init__(self, username, password):\n",
    "        User.__init__(self, \"pedro\", password)\n",
    "    def display2(self):\n",
    "        print(\"Username:\", self.username, \"password:\", self.password)\n",
    "\n",
    "admin = Admin(\"juan23\", \"mypassword123\")\n",
    "admin.display1()"
   ]
  },
  {
   "cell_type": "markdown",
   "metadata": {},
   "source": [
    "Another Example"
   ]
  },
  {
   "cell_type": "code",
   "execution_count": 13,
   "metadata": {},
   "outputs": [
    {
     "name": "stdout",
     "output_type": "stream",
     "text": [
      "Mammal\n",
      "My Dog name is Blackie\n"
     ]
    }
   ],
   "source": [
    "class Animal:\n",
    "    def type(self,type):\n",
    "        print(type)\n",
    "\n",
    "class Dog(Animal):\n",
    "    def __init__(self):\n",
    "        self.type(\"Mammal\")\n",
    "\n",
    "    def name(self,name):\n",
    "        print(\"My Dog name is \" + name)\n",
    "\n",
    "dog = Dog()\n",
    "dog.name(\"Blackie\")\n"
   ]
  },
  {
   "cell_type": "markdown",
   "metadata": {},
   "source": [
    "## Method Overriding\n",
    "- Is used to change what the method does. Within the subclass, we redefine the method (with the same name) to perform the task differently.\n",
    "- Occurs when a subclass (child class) has the same method as the parent class. In other words, method overriding occurs when a subclass provides a particular implementation of a method declared by one of its parent classes."
   ]
  },
  {
   "cell_type": "code",
   "execution_count": 45,
   "metadata": {},
   "outputs": [],
   "source": [
    "# Parent Class\n",
    "class User:\n",
    "    def __init__(self, username, password):\n",
    "        self.username = username\n",
    "        self.password = password\n",
    "\n",
    "# Child Class\n",
    "class Admin(User):\n",
    "    # Method Overriding\n",
    "    def __init__(self, username, password, code):\n",
    "        self.code = code\n",
    "        User.__init__(self, username, password)\n"
   ]
  },
  {
   "cell_type": "markdown",
   "metadata": {},
   "source": [
    "## Super() Method\n",
    "- Is a method that “allows you to call a method from the parent class.”\n",
    "- The Python `super()` method lets you access methods from a parent class from within a child class. This helps reduce repetition in your code. `super()` does not accept any arguments. One core feature of object-oriented programming languages like Python is inheritance.\n"
   ]
  },
  {
   "cell_type": "code",
   "execution_count": 3,
   "metadata": {},
   "outputs": [],
   "source": [
    "# Parent Class\n",
    "class User:\n",
    "    def __init__(self, username, password):\n",
    "        self.username = username\n",
    "        self.password = password\n",
    "\n",
    "# Child Class\n",
    "class Admin(User):\n",
    "    def __init__(self, username, password, code):\n",
    "        self.code = code\n",
    "        super().__init__(self, username, password) # Super Method\n"
   ]
  },
  {
   "cell_type": "markdown",
   "metadata": {},
   "source": [
    "The super() function is used to give access to methods and properties of a parent or sibling class.\n",
    "\n",
    "The super() function returns an object that represents the parent class."
   ]
  }
 ],
 "metadata": {
  "kernelspec": {
   "display_name": "Python 3.10.8 64-bit",
   "language": "python",
   "name": "python3"
  },
  "language_info": {
   "codemirror_mode": {
    "name": "ipython",
    "version": 3
   },
   "file_extension": ".py",
   "mimetype": "text/x-python",
   "name": "python",
   "nbconvert_exporter": "python",
   "pygments_lexer": "ipython3",
   "version": "3.10.8"
  },
  "orig_nbformat": 4,
  "vscode": {
   "interpreter": {
    "hash": "3103f0df81466cced26978c1f00aec304c6c4f54b027625b12ba1120a1fef288"
   }
  }
 },
 "nbformat": 4,
 "nbformat_minor": 2
}
