{
 "cells": [
  {
   "cell_type": "markdown",
   "metadata": {},
   "source": [
    "# Object-Oriented Programming (OOP) in Python\n",
    "-\tIs a method or approach of organizing a program by grouping properties, methods, attributes into individual objects."
   ]
  },
  {
   "cell_type": "code",
   "execution_count": 4,
   "metadata": {},
   "outputs": [
    {
     "name": "stdout",
     "output_type": "stream",
     "text": [
      "Eve\n",
      "P\n"
     ]
    }
   ],
   "source": [
    "class Guest:\n",
    "    def __init__(self, first, last):\n",
    "        self.first = first\n",
    "        self.last = last\n",
    "\n",
    "g_1 = Guest(\"Eve\", \"DC\")\n",
    "g_2 = Guest(\"Adam\", \"P\")\n",
    "\n",
    "print(g_1.first)\n",
    "print(g_2.last)"
   ]
  },
  {
   "cell_type": "markdown",
   "metadata": {},
   "source": [
    "## Class\n",
    "-\tIs the blueprint or template for creating instances and objects; helps us organize our data and functions so that they can be reused or modifies if necessary.\n",
    "\n",
    "### How to Define a Class\n",
    "- All class definitions start with the `class` keyword, which is followed by the `name` of the class and a `colon`. Any code that is indented below the class definition is considered part of the class’s body.\n"
   ]
  },
  {
   "cell_type": "code",
   "execution_count": 1,
   "metadata": {},
   "outputs": [],
   "source": [
    "# To create a class in Python, use the keyword class.\n",
    "class MyClass:\n",
    "    pass"
   ]
  },
  {
   "cell_type": "code",
   "execution_count": null,
   "metadata": {},
   "outputs": [],
   "source": [
    "# Syntax in PHP and C#\n",
    "# class MyClass{\n",
    "\n",
    "# }"
   ]
  },
  {
   "cell_type": "markdown",
   "metadata": {},
   "source": [
    "## Objects\n",
    "- Are data structures that are defined by its class, comprised of methods, class variables, and instance variables.\n"
   ]
  },
  {
   "cell_type": "code",
   "execution_count": null,
   "metadata": {},
   "outputs": [],
   "source": [
    "# in C#\n",
    "# MyClass objectName = new MyClass();\n",
    "\n",
    "# in PHP\n",
    "# $object = new MyClass();"
   ]
  },
  {
   "cell_type": "markdown",
   "metadata": {},
   "source": [
    "Python"
   ]
  },
  {
   "cell_type": "code",
   "execution_count": 17,
   "metadata": {},
   "outputs": [],
   "source": [
    "class MyClass:\n",
    "    pass\n",
    "\n",
    "# Now we can use the class named MyClass to create objects\n",
    "myObject = MyClass()"
   ]
  },
  {
   "cell_type": "markdown",
   "metadata": {},
   "source": [
    "## `__init__` method\n",
    "- Is used to assign values to the properties and operations of objects when it is being created.\n",
    "- All classes have a function called `__init__()`, which is always executed when the class is being initiated.\n",
    "- Use the `__init__()` function to assign values to object properties, or other operations that are necessary to do when the object is being created:"
   ]
  },
  {
   "cell_type": "code",
   "execution_count": null,
   "metadata": {},
   "outputs": [],
   "source": [
    "# C# - \n",
    "# class Person{\n",
    "#     public void Person{\n",
    "#     }\n",
    "# }\n",
    "# Person p1 = new Person();\n",
    "\n",
    "# PHP - \n",
    "# class Person{\n",
    "#     function __construct(){\n",
    "#     }\n",
    "# }\n",
    "# $p1 = new Person();"
   ]
  },
  {
   "cell_type": "markdown",
   "metadata": {},
   "source": [
    "Python"
   ]
  },
  {
   "cell_type": "code",
   "execution_count": 4,
   "metadata": {},
   "outputs": [],
   "source": [
    "class NewClass:\n",
    "    pass\n",
    "\n",
    "newObject = NewClass()"
   ]
  },
  {
   "cell_type": "code",
   "execution_count": 1,
   "metadata": {},
   "outputs": [
    {
     "name": "stdout",
     "output_type": "stream",
     "text": [
      "Hello World!\n"
     ]
    }
   ],
   "source": [
    "class NewClass2:\n",
    "    def __init__(self):\n",
    "        print(\"Hello World!\")\n",
    "\n",
    "newObject = NewClass2()"
   ]
  },
  {
   "cell_type": "code",
   "execution_count": 10,
   "metadata": {},
   "outputs": [
    {
     "name": "stdout",
     "output_type": "stream",
     "text": [
      "John\n",
      "36\n"
     ]
    }
   ],
   "source": [
    "# Create a class named Person, use the __init__() function to assign values for name and age:\n",
    "class Person:\n",
    "  def __init__(self, name, age):\n",
    "    self.name = name\n",
    "    self.age = age\n",
    "\n",
    "# create object p1\n",
    "p1 = Person(\"John\", 36)\n",
    "\n",
    "print(p1.name)\n",
    "print(p1.age)"
   ]
  },
  {
   "cell_type": "code",
   "execution_count": 11,
   "metadata": {},
   "outputs": [
    {
     "name": "stdout",
     "output_type": "stream",
     "text": [
      "John\n",
      "36\n"
     ]
    }
   ],
   "source": [
    "class Person:\n",
    "    pass\n",
    "\n",
    "# create object p1\n",
    "p1 = Person()\n",
    "\n",
    "p1.name = \"John\"\n",
    "p1.age = 36\n",
    "\n",
    "print(p1.name)\n",
    "print(p1.age)"
   ]
  },
  {
   "cell_type": "markdown",
   "metadata": {},
   "source": [
    "Note: The `__init__()` function is called automatically every time the class is being used to create a new object."
   ]
  },
  {
   "cell_type": "markdown",
   "metadata": {},
   "source": [
    "## Attributes\n",
    "- Are data stored inside a class or instance that represent the state of the class or instance.\n"
   ]
  },
  {
   "cell_type": "code",
   "execution_count": 5,
   "metadata": {},
   "outputs": [
    {
     "name": "stdout",
     "output_type": "stream",
     "text": [
      "Canis familiaris\n"
     ]
    }
   ],
   "source": [
    "class Dog:\n",
    "    # Class attribute\n",
    "    species = \"Canis familiaris\"\n",
    "\n",
    "# object\n",
    "dogie = Dog()\n",
    "print(dogie.species)"
   ]
  },
  {
   "cell_type": "markdown",
   "metadata": {},
   "source": [
    "## Instance Variables\n",
    "- Are variables that are defined within a method and are unique to a certain instance.\n"
   ]
  },
  {
   "cell_type": "code",
   "execution_count": 5,
   "metadata": {},
   "outputs": [
    {
     "name": "stdout",
     "output_type": "stream",
     "text": [
      "eve\n"
     ]
    }
   ],
   "source": [
    "class Guest:\n",
    "    pass\n",
    "\n",
    "g_1 = Guest()\n",
    "g_1.first = \"eve\" # <<==== instance variables\n",
    "\n",
    "print(g_1.first)"
   ]
  },
  {
   "cell_type": "markdown",
   "metadata": {},
   "source": [
    "## Class Variables\n",
    "- Are variables that are used by all instances of the class, which can be defined within a class, but not within the methods of the class.\n"
   ]
  },
  {
   "cell_type": "code",
   "execution_count": 7,
   "metadata": {},
   "outputs": [
    {
     "name": "stdout",
     "output_type": "stream",
     "text": [
      "Adorable\n"
     ]
    }
   ],
   "source": [
    "class Pets:\n",
    "    looks = \"Adorable\"\n",
    "\n",
    "hamster = Pets()\n",
    "print(hamster.looks)"
   ]
  },
  {
   "cell_type": "code",
   "execution_count": 2,
   "metadata": {},
   "outputs": [
    {
     "name": "stdout",
     "output_type": "stream",
     "text": [
      "Beautiful\n"
     ]
    }
   ],
   "source": [
    "class Pets:\n",
    "    looks = \"Adorable\"\n",
    "\n",
    "hamster = Pets()\n",
    "hamster.looks = \"Beautiful\"\n",
    "print(hamster.looks)"
   ]
  },
  {
   "cell_type": "markdown",
   "metadata": {},
   "source": [
    "## Methods\n",
    "- Are a type of function that is defined in a class.\n"
   ]
  },
  {
   "cell_type": "code",
   "execution_count": 23,
   "metadata": {},
   "outputs": [],
   "source": [
    "class Guest:\n",
    "    \n",
    "    def __init__(self, first, last):\n",
    "        self.first = first\n",
    "        self.last = last"
   ]
  },
  {
   "cell_type": "code",
   "execution_count": 8,
   "metadata": {},
   "outputs": [],
   "source": [
    "class Person:\n",
    "\n",
    "    def method1(self):\n",
    "        print(\"Hello my name is \" + self.name)\n",
    "        print(self.method2(\"try\"))\n",
    "\n",
    "    def method2(self, val):\n",
    "        return val"
   ]
  },
  {
   "cell_type": "markdown",
   "metadata": {},
   "source": [
    "## The self Parameter\n",
    "- The `self` parameter is a reference to the current instance of the class, and is used to access `variables` that belongs to the `class`."
   ]
  },
  {
   "cell_type": "markdown",
   "metadata": {},
   "source": [
    "Note: The `self` parameter is a reference to the current instance of the class, and is used to access `variables` that belong to the `class`."
   ]
  },
  {
   "cell_type": "code",
   "execution_count": null,
   "metadata": {},
   "outputs": [],
   "source": [
    "# in C# using `this` keyword\n",
    "# class Person{\n",
    "#     public int num1 = 12;\n",
    "#     public void myfunction(){\n",
    "#         Console.WriteLine(this.num1);\n",
    "#     }\n",
    "# }\n",
    "\n",
    "# in PHP using `this` keyword\n",
    "# class Person{\n",
    "#     function myfunction1(){\n",
    "#     }\n",
    "#     function myfunction2(){ \n",
    "#         echo this->myfunction1();\n",
    "#     }\n",
    "# }\n",
    "\n",
    "# VB.NET or Visual Basic \n",
    "# using `Me` keyword"
   ]
  },
  {
   "cell_type": "markdown",
   "metadata": {},
   "source": [
    "Python\n",
    "- using first parameter of a methods"
   ]
  },
  {
   "cell_type": "code",
   "execution_count": 8,
   "metadata": {},
   "outputs": [
    {
     "name": "stdout",
     "output_type": "stream",
     "text": [
      "Hello my name is John\n",
      "try\n"
     ]
    }
   ],
   "source": [
    "class Person:\n",
    "    def __init__(self, name, age):\n",
    "        self.name = name\n",
    "        self.age = age\n",
    "\n",
    "    def method1(self):\n",
    "        print(\"Hello my name is \" + self.name)\n",
    "        print(self.method2(\"try\"))\n",
    "\n",
    "    def method2(self, val):\n",
    "        return val\n",
    "    \n",
    "# object\n",
    "p1 = Person(\"John\", 36)\n",
    "p1.method1()"
   ]
  },
  {
   "cell_type": "markdown",
   "metadata": {},
   "source": [
    "\n",
    "It does not have to be named `self` , you can call it whatever you like, but it has to be the first parameter of any function in the class:\n",
    "\n",
    "Example:  \n",
    "Use the words `person` and abc instead of self:"
   ]
  },
  {
   "cell_type": "code",
   "execution_count": 9,
   "metadata": {},
   "outputs": [
    {
     "name": "stdout",
     "output_type": "stream",
     "text": [
      "Hello my name is John 36 years old.\n"
     ]
    }
   ],
   "source": [
    "class Person:\n",
    "    def __init__(person, name, age):\n",
    "        person.name = name\n",
    "        person.age = age\n",
    "\n",
    "    def myfunc(per):\n",
    "        print(\"Hello my name is \" + per.name + \" \" + str(per.age) + \" years old.\")\n",
    "\n",
    "p1 = Person(\"John\", 36)\n",
    "p1.myfunc()"
   ]
  },
  {
   "cell_type": "markdown",
   "metadata": {},
   "source": [
    "Modify Object Properties  \n",
    "You can modify properties on objects like this:"
   ]
  },
  {
   "cell_type": "code",
   "execution_count": 7,
   "metadata": {},
   "outputs": [
    {
     "name": "stdout",
     "output_type": "stream",
     "text": [
      "Hello my name is John 40 years old.\n"
     ]
    }
   ],
   "source": [
    "# Example\n",
    "# Set the age of p1 to 40:\n",
    "class Person:\n",
    "    def __init__(person, name, age):\n",
    "        person.name = name\n",
    "        person.age = age\n",
    "\n",
    "    def myfunc(per):\n",
    "        print(\"Hello my name is \" + per.name + \" \" + str(per.age) + \" years old.\")\n",
    "\n",
    "p1 = Person(\"John\", 36)\n",
    "p1.age = 40\n",
    "p1.myfunc()"
   ]
  },
  {
   "cell_type": "markdown",
   "metadata": {},
   "source": [
    "Delete Object Properties  \n",
    "You can delete properties on objects by using the del keyword:"
   ]
  },
  {
   "cell_type": "code",
   "execution_count": 11,
   "metadata": {},
   "outputs": [
    {
     "ename": "AttributeError",
     "evalue": "'Person' object has no attribute 'age'",
     "output_type": "error",
     "traceback": [
      "\u001b[1;31m---------------------------------------------------------------------------\u001b[0m",
      "\u001b[1;31mAttributeError\u001b[0m                            Traceback (most recent call last)",
      "Cell \u001b[1;32mIn [11], line 6\u001b[0m\n\u001b[0;32m      1\u001b[0m \u001b[39m# Example\u001b[39;00m\n\u001b[0;32m      2\u001b[0m \u001b[39m# Delete the age property from the p1 object:\u001b[39;00m\n\u001b[0;32m      4\u001b[0m \u001b[39mdel\u001b[39;00m p1\u001b[39m.\u001b[39mage\n\u001b[1;32m----> 6\u001b[0m p1\u001b[39m.\u001b[39;49mmyfunc()\n",
      "Cell \u001b[1;32mIn [9], line 7\u001b[0m, in \u001b[0;36mPerson.myfunc\u001b[1;34m(per)\u001b[0m\n\u001b[0;32m      6\u001b[0m \u001b[39mdef\u001b[39;00m \u001b[39mmyfunc\u001b[39m(per):\n\u001b[1;32m----> 7\u001b[0m     \u001b[39mprint\u001b[39m(\u001b[39m\"\u001b[39m\u001b[39mHello my name is \u001b[39m\u001b[39m\"\u001b[39m \u001b[39m+\u001b[39m per\u001b[39m.\u001b[39mname \u001b[39m+\u001b[39m \u001b[39m\"\u001b[39m\u001b[39m \u001b[39m\u001b[39m\"\u001b[39m \u001b[39m+\u001b[39m \u001b[39mstr\u001b[39m(per\u001b[39m.\u001b[39;49mage) \u001b[39m+\u001b[39m \u001b[39m\"\u001b[39m\u001b[39m years old.\u001b[39m\u001b[39m\"\u001b[39m)\n",
      "\u001b[1;31mAttributeError\u001b[0m: 'Person' object has no attribute 'age'"
     ]
    }
   ],
   "source": [
    "# Example\n",
    "# Delete the age property from the p1 object:\n",
    "\n",
    "del p1.age\n",
    "\n",
    "p1.myfunc()"
   ]
  },
  {
   "cell_type": "markdown",
   "metadata": {},
   "source": [
    "Delete Objects  \n",
    "You can delete objects by using the del keyword:"
   ]
  },
  {
   "cell_type": "code",
   "execution_count": 12,
   "metadata": {},
   "outputs": [
    {
     "ename": "NameError",
     "evalue": "name 'p1' is not defined",
     "output_type": "error",
     "traceback": [
      "\u001b[1;31m---------------------------------------------------------------------------\u001b[0m",
      "\u001b[1;31mNameError\u001b[0m                                 Traceback (most recent call last)",
      "Cell \u001b[1;32mIn [12], line 6\u001b[0m\n\u001b[0;32m      1\u001b[0m \u001b[39m# Example\u001b[39;00m\n\u001b[0;32m      2\u001b[0m \u001b[39m# Delete the p1 object:\u001b[39;00m\n\u001b[0;32m      4\u001b[0m \u001b[39mdel\u001b[39;00m p1\n\u001b[1;32m----> 6\u001b[0m p1\u001b[39m.\u001b[39mmyfunc()\n\u001b[0;32m      7\u001b[0m \u001b[39mprint\u001b[39m(p1\u001b[39m.\u001b[39mage)\n",
      "\u001b[1;31mNameError\u001b[0m: name 'p1' is not defined"
     ]
    }
   ],
   "source": [
    "# Example\n",
    "# Delete the p1 object:\n",
    "\n",
    "del p1\n",
    "\n",
    "p1.myfunc()\n",
    "print(p1.age)"
   ]
  },
  {
   "cell_type": "markdown",
   "metadata": {},
   "source": [
    "## Inheritance\n",
    "- In object-oriented programming (OOP), inheritance “allows classes to have code reusability within programming”.\n",
    "\n",
    "- Inheritance allows us to define a class that inherits all the methods and properties from another class.\n",
    "\n",
    "`Parent class` is the class being `inherited from`, also called `base` class.\n",
    "\n",
    "`Child class` is the class that `inherits from another class`, also called `derived` class or `sub` class.\n",
    "\n",
    "\n",
    "\n",
    "Parent Class  \n",
    "    |  \n",
    "    |  \n",
    "Child Class  "
   ]
  },
  {
   "cell_type": "markdown",
   "metadata": {},
   "source": [
    "## Base Class\n",
    "- Is the class being inherited from, also called `parent` class.\n"
   ]
  },
  {
   "cell_type": "markdown",
   "metadata": {},
   "source": [
    "Create a Parent Class  "
   ]
  },
  {
   "cell_type": "code",
   "execution_count": 25,
   "metadata": {},
   "outputs": [
    {
     "name": "stdout",
     "output_type": "stream",
     "text": [
      "John Doe\n"
     ]
    }
   ],
   "source": [
    "# Example of a Class\n",
    "# Create a class named Person, with firstname and lastname properties, and a printname method:\n",
    "class Person:\n",
    "  def __init__(self, fname, lname):\n",
    "    self.firstname = fname\n",
    "    self.lastname = lname\n",
    "\n",
    "  def printname(self):\n",
    "    print(self.firstname, self.lastname)\n",
    "\n",
    "#Use the Person class to create an object, and then execute the printname method:\n",
    "x = Person(\"John\", \"Doe\")\n",
    "x.printname()"
   ]
  },
  {
   "cell_type": "markdown",
   "metadata": {},
   "source": [
    "Note: Any class can be a parent class, so the syntax is the same as creating any other class:"
   ]
  },
  {
   "cell_type": "markdown",
   "metadata": {},
   "source": [
    "Example 2:"
   ]
  },
  {
   "cell_type": "code",
   "execution_count": 30,
   "metadata": {},
   "outputs": [],
   "source": [
    "# Parent Class\n",
    "class User:\n",
    "    def __init__(self, username, password):\n",
    "        self.username = username\n",
    "        self.password = password\n",
    "\n",
    "    def display1(self):\n",
    "        print(\"(parent class/User) Username:\", self.username, \"password:\", self.password)\n",
    "\n",
    "# Child Class\n",
    "class Admin(User):\n",
    "    pass"
   ]
  },
  {
   "cell_type": "code",
   "execution_count": null,
   "metadata": {},
   "outputs": [],
   "source": [
    "#PHP\n",
    "# class Admin extends User{\n",
    "# }\n",
    "\n",
    "# C#\n",
    "# class Admin : User{\n",
    "\n",
    "# }"
   ]
  },
  {
   "cell_type": "markdown",
   "metadata": {},
   "source": [
    "## Subclass\n",
    "- Is the class which inherits from another class, also called a child class.\n"
   ]
  },
  {
   "cell_type": "code",
   "execution_count": 14,
   "metadata": {},
   "outputs": [],
   "source": [
    "# Parent Class\n",
    "class User:\n",
    "    def __init__(self, username, password):\n",
    "        self.username = username\n",
    "        self.password = password\n",
    "\n",
    "    def display1(self):\n",
    "        print(\"(parent class/User) Username:\", self.username, \"password:\", self.password)\n",
    "\n",
    "\n",
    "# Child Class\n",
    "class Admin(User):\n",
    "    def display2(self):\n",
    "        print(\"(child class/Admin) Username:\", self.username, \"password:\", self.password)"
   ]
  },
  {
   "cell_type": "markdown",
   "metadata": {},
   "source": [
    "Now the Admin class has the same properties and methods as the User class."
   ]
  },
  {
   "cell_type": "code",
   "execution_count": 17,
   "metadata": {},
   "outputs": [
    {
     "name": "stdout",
     "output_type": "stream",
     "text": [
      "(parent class/User) Username: juan23 password: mypassword123\n",
      "(child class/Admin) Username: juan23 password: mypassword123\n"
     ]
    }
   ],
   "source": [
    "# Example\n",
    "# Use the Admin class to create an object, and then execute the printname method:\n",
    "\n",
    "admin = Admin(\"juan23\", \"mypassword123\")\n",
    "admin.display1()\n",
    "admin.display2()"
   ]
  },
  {
   "cell_type": "code",
   "execution_count": 4,
   "metadata": {},
   "outputs": [
    {
     "name": "stdout",
     "output_type": "stream",
     "text": [
      "Username: pedro ,Password: mypassword123\n"
     ]
    }
   ],
   "source": [
    "class User:\n",
    "    def __init__(self, username, password):\n",
    "        self.username = username\n",
    "        self.password = password\n",
    "\n",
    "    def display1(self):\n",
    "        print(\"Username:\", self.username, \",Password:\", self.password)\n",
    "\n",
    "class Admin(User):\n",
    "    def __init__(self, username, password):\n",
    "        User.__init__(self, \"pedro\", password)\n",
    "    def display2(self):\n",
    "        print(\"Username:\", self.username, \"password:\", self.password)\n",
    "\n",
    "admin = Admin(\"juan23\", \"mypassword123\")\n",
    "admin.display1()"
   ]
  },
  {
   "cell_type": "markdown",
   "metadata": {},
   "source": [
    "Another Example"
   ]
  },
  {
   "cell_type": "code",
   "execution_count": 13,
   "metadata": {},
   "outputs": [
    {
     "name": "stdout",
     "output_type": "stream",
     "text": [
      "Mammal\n",
      "My Dog name is Blackie\n"
     ]
    }
   ],
   "source": [
    "class Animal:\n",
    "    def type(self,type):\n",
    "        print(type)\n",
    "\n",
    "class Dog(Animal):\n",
    "    def __init__(self):\n",
    "        self.type(\"Mammal\")\n",
    "\n",
    "    def name(self,name):\n",
    "        print(\"My Dog name is \" + name)\n",
    "\n",
    "dog = Dog()\n",
    "dog.name(\"Blackie\")\n"
   ]
  },
  {
   "cell_type": "markdown",
   "metadata": {},
   "source": [
    "## Method Overriding\n",
    "- Is used to change what the method does. Within the subclass, we redefine the method (with the same name) to perform the task differently.\n",
    "- Occurs when a subclass (child class) has the same method as the parent class. In other words, method overriding occurs when a subclass provides a particular implementation of a method declared by one of its parent classes."
   ]
  },
  {
   "cell_type": "code",
   "execution_count": 33,
   "metadata": {},
   "outputs": [],
   "source": [
    "# Parent Class\n",
    "class User:\n",
    "    def __init__(self, username, password):\n",
    "        self.username = username\n",
    "        self.password = password\n",
    "\n",
    "# Child Class\n",
    "class Admin(User):\n",
    "    # Method Overriding\n",
    "    def __init__(self, username, password, code):\n",
    "        self.code = code\n",
    "        User.__init__(self, username, password)\n"
   ]
  },
  {
   "cell_type": "markdown",
   "metadata": {},
   "source": [
    "## Super() Method\n",
    "- Is a method that “allows you to call a method from the parent class.”\n",
    "- The Python `super()` method lets you access methods from a parent class from within a child class. This helps reduce repetition in your code. `super()` does not accept any arguments. One core feature of object-oriented programming languages like Python is inheritance.\n"
   ]
  },
  {
   "cell_type": "code",
   "execution_count": 3,
   "metadata": {},
   "outputs": [],
   "source": [
    "# Parent Class\n",
    "class User:\n",
    "    def __init__(self, username, password):\n",
    "        self.username = username\n",
    "        self.password = password\n",
    "\n",
    "# Child Class\n",
    "class Admin(User):\n",
    "    def __init__(self, username, password, code):\n",
    "        self.code = code\n",
    "        super().__init__(self, username, password) # Super Method\n"
   ]
  },
  {
   "cell_type": "markdown",
   "metadata": {},
   "source": [
    "The super() function is used to give access to methods and properties of a parent or sibling class.\n",
    "\n",
    "The super() function returns an object that represents the parent class."
   ]
  }
 ],
 "metadata": {
  "kernelspec": {
   "display_name": "Python 3.10.8 64-bit",
   "language": "python",
   "name": "python3"
  },
  "language_info": {
   "codemirror_mode": {
    "name": "ipython",
    "version": 3
   },
   "file_extension": ".py",
   "mimetype": "text/x-python",
   "name": "python",
   "nbconvert_exporter": "python",
   "pygments_lexer": "ipython3",
   "version": "3.10.8"
  },
  "orig_nbformat": 4,
  "vscode": {
   "interpreter": {
    "hash": "3103f0df81466cced26978c1f00aec304c6c4f54b027625b12ba1120a1fef288"
   }
  }
 },
 "nbformat": 4,
 "nbformat_minor": 2
}
